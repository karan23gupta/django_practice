{
 "cells": [
  {
   "cell_type": "code",
   "execution_count": 1,
   "metadata": {},
   "outputs": [
    {
     "name": "stdout",
     "output_type": "stream",
     "text": [
      "{'Meta Data': {'1. Information': 'Intraday (5min) open, high, low, close prices and volume', '2. Symbol': 'MSFT', '3. Last Refreshed': '2019-07-19 16:00:00', '4. Interval': '5min', '5. Output Size': 'Compact', '6. Time Zone': 'US/Eastern'}, 'Time Series (5min)': {'2019-07-19 16:00:00': {'1. open': '136.8400', '2. high': '136.8450', '3. low': '136.5100', '4. close': '136.6000', '5. volume': '1823415'}, '2019-07-19 15:55:00': {'1. open': '136.6650', '2. high': '136.8700', '3. low': '136.6334', '4. close': '136.8405', '5. volume': '625291'}}}\n"
     ]
    }
   ],
   "source": [
    "x={\n",
    "    \"Meta Data\": {\n",
    "        \"1. Information\": \"Intraday (5min) open, high, low, close prices and volume\",\n",
    "        \"2. Symbol\": \"MSFT\",\n",
    "        \"3. Last Refreshed\": \"2019-07-19 16:00:00\",\n",
    "        \"4. Interval\": \"5min\",\n",
    "        \"5. Output Size\": \"Compact\",\n",
    "        \"6. Time Zone\": \"US/Eastern\"\n",
    "    },\n",
    "    \"Time Series (5min)\": {\n",
    "        \"2019-07-19 16:00:00\": {\n",
    "            \"1. open\": \"136.8400\",\n",
    "            \"2. high\": \"136.8450\",\n",
    "            \"3. low\": \"136.5100\",\n",
    "            \"4. close\": \"136.6000\",\n",
    "            \"5. volume\": \"1823415\"\n",
    "        },\n",
    "        \"2019-07-19 15:55:00\": {\n",
    "            \"1. open\": \"136.6650\",\n",
    "            \"2. high\": \"136.8700\",\n",
    "            \"3. low\": \"136.6334\",\n",
    "            \"4. close\": \"136.8405\",\n",
    "            \"5. volume\": \"625291\"\n",
    "        }\n",
    "    }\n",
    "}\n",
    "\n",
    "for key, values in x.items():\n",
    "    "
   ]
  },
  {
   "cell_type": "code",
   "execution_count": null,
   "metadata": {},
   "outputs": [],
   "source": []
  }
 ],
 "metadata": {
  "kernelspec": {
   "display_name": "Python 3",
   "language": "python",
   "name": "python3"
  },
  "language_info": {
   "codemirror_mode": {
    "name": "ipython",
    "version": 3
   },
   "file_extension": ".py",
   "mimetype": "text/x-python",
   "name": "python",
   "nbconvert_exporter": "python",
   "pygments_lexer": "ipython3",
   "version": "3.7.4"
  }
 },
 "nbformat": 4,
 "nbformat_minor": 2
}
